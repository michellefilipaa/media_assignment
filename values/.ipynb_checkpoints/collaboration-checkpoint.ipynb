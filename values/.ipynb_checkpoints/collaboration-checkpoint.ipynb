{
 "cells": [
  {
   "cell_type": "markdown",
   "id": "c938a651",
   "metadata": {},
   "source": [
    "# Collaboration"
   ]
  },
  {
   "cell_type": "code",
   "execution_count": 1,
   "id": "fe6bddb6",
   "metadata": {},
   "outputs": [],
   "source": [
    "import numpy as np\n",
    "import itertools\n",
    "import pandas as pd\n",
    "import warnings\n",
    "import os\n",
    "warnings.filterwarnings('ignore')"
   ]
  },
  {
   "cell_type": "code",
   "execution_count": 2,
   "id": "f8adc939",
   "metadata": {},
   "outputs": [],
   "source": [
    "user_ratings = pd.read_csv('../data/user_ratings.csv')\n",
    "movies = pd.read_csv('../data/all_data.csv')"
   ]
  },
  {
   "cell_type": "code",
   "execution_count": 3,
   "id": "f973d461",
   "metadata": {
    "scrolled": true
   },
   "outputs": [],
   "source": [
    "df = pd.merge(user_ratings, movies, on='showId', how='left')\n",
    "genres = df['category'].str.get_dummies('|')\n",
    "df = pd.concat([df, genres], axis=1)\n",
    "df = df[['userId', 'showId', 'rating', 'CBBC', 'Comedy', 'Documentaries', 'Entertainment', 'From the Archives', 'Science & Nature', 'Sports']]"
   ]
  },
  {
   "cell_type": "markdown",
   "id": "e2fae030",
   "metadata": {},
   "source": [
    "# Collaborative filtering (Jaccard similarity)\n",
    "In the function below the jaccard similarity is written based on the ratings of the users"
   ]
  },
  {
   "cell_type": "code",
   "execution_count": 11,
   "id": "2f70c02e",
   "metadata": {
    "scrolled": true
   },
   "outputs": [],
   "source": [
    "def get_jaccard_recommendations(user_ids, df, movies):\n",
    "    users = df.groupby('userId')['showId'].apply(set)\n",
    "    \n",
    "    group_movies = set()\n",
    "    for user_id in user_ids:\n",
    "        group_movies.update(users.get(user_id, set()))\n",
    "    \n",
    "    similar_users = []\n",
    "    new_content = set()  # Use set to store unique recommended items\n",
    "\n",
    "    for user, value in users.items():\n",
    "        if user in user_ids:\n",
    "            continue\n",
    "        \n",
    "        other_user_set = value\n",
    "        \n",
    "        # Calculate Jaccard similarity for each user separately\n",
    "        intersection = len(group_movies.intersection(other_user_set))\n",
    "        union = len(group_movies.union(other_user_set))\n",
    "        user_similarity = float(intersection) / union\n",
    "\n",
    "        # Tweak this parameter. Closer to 0.0 is more similar.\n",
    "        if user_similarity < 0.1 and user_similarity != 0.00:\n",
    "            differences = group_movies.symmetric_difference(other_user_set)\n",
    "            new_content.update(differences)  \n",
    "\n",
    "            # Add the user to similar_users\n",
    "            similar_users.append(user)\n",
    "            \n",
    "            if len(similar_users) >= 15:  # Limit to 10 similar users\n",
    "                break\n",
    "    \n",
    "    # Create DataFrame with unique recommended show IDs\n",
    "    df_recommendations = pd.DataFrame(list(new_content), columns=['showId'])\n",
    "    \n",
    "    # Merge recommendations DataFrame with movies DataFrame based on showId\n",
    "    df_recommendations_with_info = pd.merge(df_recommendations, movies, on='showId', how='left')\n",
    "    \n",
    "    # Define the directory path\n",
    "    directory = \"../data/recommendations\"\n",
    "    \n",
    "    # Concatenate user IDs without the suffix _1 to form the CSV file name\n",
    "    users_concatenated = \"_\".join(user_id.split(\"_\")[0] for user_id in user_ids)\n",
    "    \n",
    "    # Use the defined directory path and concatenated user IDs to save recommendations to CSV\n",
    "    csv_file_path = os.path.join(directory, \"collaboration_\" + users_concatenated + \".csv\")\n",
    "    \n",
    "    # Save recommendations to CSV\n",
    "    df_recommendations_with_info.to_csv(csv_file_path, index=False)\n",
    "    \n",
    "    return df_recommendations_with_info"
   ]
  },
  {
   "cell_type": "code",
   "execution_count": 10,
   "id": "e8d7a747",
   "metadata": {},
   "outputs": [],
   "source": [
    "# List of all user IDs\n",
    "all_user_ids = [\"sine_1\", \"asha_1\", \"michelle_1\", \"zang_1\", \"zane_1\"]\n",
    "\n",
    "# Generate combinations of user IDs with different lengths\n",
    "user_id_combinations = []\n",
    "for r in range(2, len(all_user_ids) + 1):\n",
    "    user_id_combinations.extend(itertools.combinations(all_user_ids, r))\n",
    "\n",
    "# Iterate over each combination and generate recommendations\n",
    "for user_ids_combination in user_id_combinations:\n",
    "    recommendations = get_jaccard_recommendations(list(user_ids_combination), df, movies)"
   ]
  }
 ],
 "metadata": {
  "kernelspec": {
   "display_name": "Python 3 (ipykernel)",
   "language": "python",
   "name": "python3"
  },
  "language_info": {
   "codemirror_mode": {
    "name": "ipython",
    "version": 3
   },
   "file_extension": ".py",
   "mimetype": "text/x-python",
   "name": "python",
   "nbconvert_exporter": "python",
   "pygments_lexer": "ipython3",
   "version": "3.8.18"
  }
 },
 "nbformat": 4,
 "nbformat_minor": 5
}
