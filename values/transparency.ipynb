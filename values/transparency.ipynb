{
 "cells": [
  {
   "cell_type": "markdown",
   "metadata": {},
   "source": [
    "Objectives:"
   ]
  },
  {
   "cell_type": "code",
   "execution_count": 19,
   "metadata": {},
   "outputs": [
    {
     "name": "stdout",
     "output_type": "stream",
     "text": [
      "The goal of this recommendation system is to generate recommendations based on a set of (public) values that are implemented in the design of the system. The values include: (safe) access, positivity, collaboration, transparency and fairness.\n",
      "The goal is to give you a positive and diverse user experience to give you the option to how understand the methods and mathematics behind the recommendation that are presented.\n",
      "\n",
      "\n",
      "We are also hopeful that by providing you with these values give you more trust and confidence in the recommendations provided, leading to improved user satisfaction and engagement. \n",
      "The systems aims to explore and propose strategies for seamlessly incorporating these values while recognizing the trade-offs inherent in the process. \n",
      "By doing so, the objective is to ensure that RS not only provide personalized recommendations but also adhere to ethical standards and contribute to societal well-being. \n",
      "\n",
      "Refer to all 'transparency' scripts below to gain a new insight to the recommendations.\n",
      "\n"
     ]
    }
   ],
   "source": [
    "#transparency: objective and goal\n",
    "\n",
    "objective_response = input(\"Would you like to know how the objective and goal behind the recommendations? (y/n): \")\n",
    "\n",
    "if objective_response.lower() == 'y':\n",
    "    \n",
    "    with open('/Users/zane/Downloads/PPM_transparency_explanations/design_objective_explanation.txt', 'r') as file:\n",
    "        objective_explanation = file.read()\n",
    "\n",
    "    print(objective_explanation)\n",
    "\n",
    "elif objective_response.lower() == 'n':\n",
    "    print(\"Thank you, if you wish to understand this at a later time, rerun the code and select 'y'.\")\n",
    "\n",
    "else:\n",
    "    print(\"Not a valid response. Again please enter 'y' or 'n'.\")"
   ]
  },
  {
   "cell_type": "code",
   "execution_count": 20,
   "metadata": {},
   "outputs": [
    {
     "name": "stdout",
     "output_type": "stream",
     "text": [
      "To understand how the recommendations are generated it is important to understand the functions that ultimately determine a recommendation. \n",
      "The recommendation system will consider a user and display recommendations in the form of episodes that may be of interest to you the user. \n",
      "\n",
      "The values access, collaboration, and positivity are values that are backed mathematical functions that responsible for providing the recommended episodes. \n",
      "As each user is unique, a different values contain weight which is used to determine how diverse the recommendations presented will be. \n",
      "\n",
      "A class is created to serve as means for generating recommendations that considers age, positivity, and collaboration and ensures fairness:\n",
      "\n",
      "\n",
      "\n"
     ]
    }
   ],
   "source": [
    "#transparency: generation of recommendations\n",
    "\n",
    "objective_response = input(\"Would you like to know how the method for generating recommendations? (y/n): \")\n",
    "\n",
    "if objective_response.lower() == 'y':\n",
    "    \n",
    "    with open('/Users/zane/Downloads/PPM_transparency_explanations/generatedrecommendations_explanation.txt', 'r') as file:\n",
    "        objective_explanation = file.read()\n",
    "\n",
    "    print(objective_explanation)\n",
    "\n",
    "elif objective_response.lower() == 'n':\n",
    "    print(\"Thank you, if you wish to understand this at a later time, rerun the code and select 'y'.\")\n",
    "\n",
    "else:\n",
    "    print(\"Not a valid response. Again please enter 'y' or 'n'.\")"
   ]
  },
  {
   "cell_type": "code",
   "execution_count": 21,
   "metadata": {},
   "outputs": [
    {
     "name": "stdout",
     "output_type": "stream",
     "text": [
      "Displaying the recommendations is crucial for how you the user makes a choice. \n",
      "\n",
      "An interface known as Streamlit will be responsible for user interaction and the visual display of recommendations. \n",
      "\n",
      "Users will be able to make choices that allow for safe access, collaboration, and positivity within the recommendations being generated. \n",
      "\n",
      "They interface will initially display episodes for the user that include most recently watches and highest rated. \n",
      "It will then all the user to like to make the decision if they would like other recommendations, if the user decides to proceed they will be able to specify their user profile and makes decisions such as choosing a genre, a positivity level (ordinal 1-10), \n",
      "and if any who the user is going to watch with.\n",
      "A new set of recommendations will then be displayed for the user. \n"
     ]
    }
   ],
   "source": [
    "#transparency: displaying recommendations\n",
    "\n",
    "objective_response = input(\"Would you like to know how the ecommendations are displayed? (y/n): \")\n",
    "\n",
    "if objective_response.lower() == 'y':\n",
    "    \n",
    "    with open('/Users/zane/Downloads/PPM_transparency_explanations/displayrecommendations_explanation.txt', 'r') as file:\n",
    "        objective_explanation = file.read()\n",
    "\n",
    "    print(objective_explanation)\n",
    "\n",
    "elif objective_response.lower() == 'n':\n",
    "    print(\"Thank you, if you wish to understand this at a later time, rerun the code and select 'y'.\")\n",
    "\n",
    "else:\n",
    "    print(\"Not a valid response. Again please enter 'y' or 'n'.\")"
   ]
  },
  {
   "cell_type": "markdown",
   "metadata": {},
   "source": [
    "Data:"
   ]
  },
  {
   "cell_type": "code",
   "execution_count": 22,
   "metadata": {},
   "outputs": [
    {
     "name": "stdout",
     "output_type": "stream",
     "text": [
      "The data frame represents text and numeric data collected from the original data set given by public broadcast network BBC. \n",
      "\n",
      "The original features include 'category', 'title', 'tags', 'age_rating', 'rating_description', 'description', 'representation', 'duration_txt', 'duration_sec', 'first_broadcast', 'synopsis_small', 'synopsis_medium', 'synopsis_large', 'image', 'showId'.\t\n",
      "\n",
      "This 'synopsis' is either of the text columns 'synopsis_small', 'synopsis_medium', and 'synopsis_large' depending on the if a description is null or not. And then 'synopsis_large' and 'synopsis_small' were dropped. \n",
      "These columns were concatenated to create a viable description for each episode. \n",
      "\n",
      "The feature descriptions are as follows:\n",
      "\n",
      "• category: represents the genre \n",
      "• title: the name of the episode of that show\n",
      "• tags: key descriptive terms\n",
      "• age_rating: the assigned audience rating \n",
      "• rating_description: an description to justify the age_rating\n",
      "• description: a brief description of the episode\n",
      "• representation: \n",
      "• duration_txt: gives the duration of the episode in minutes\n",
      "• duration_sec: gives the duration of the episode in seconds\n",
      "• first_broadcast: gives the time/date in which the episode aired\n",
      "• synopsis_medium: a brief description of the episode\n",
      "• image: a URL to an image of the episode\n",
      "• showId: unique identifier for the episode\n",
      "• synopsis: a brief description of the episode\n",
      "\n",
      "The original data sets are content data from BBC (British Broadcasting Corporation) a British public broadcasting television network. \n",
      "\n"
     ]
    }
   ],
   "source": [
    "#transparency: understanding the data\n",
    "\n",
    "data_response = input(\"Would you like to undstand the data being used to create recommendations? (y/n): \")\n",
    "\n",
    "if data_response.lower() == 'y':\n",
    "    \n",
    "    with open('/Users/zane/Downloads/PPM_transparency_explanations/datasets_explanation.txt', 'r') as file:\n",
    "        data_explanation = file.read()\n",
    "\n",
    "    print(data_explanation)\n",
    "\n",
    "elif data_response.lower() == 'n':\n",
    "    print(\"Thank you, if you wish to understand this at a later time, rerun the code and select 'y'.\")\n",
    "\n",
    "else:\n",
    "    print(\"Not a valid response. Again please enter 'y' or 'n'.\")"
   ]
  },
  {
   "cell_type": "markdown",
   "metadata": {},
   "source": [
    "Methods and Values:"
   ]
  },
  {
   "cell_type": "code",
   "execution_count": 23,
   "metadata": {},
   "outputs": [
    {
     "name": "stdout",
     "output_type": "stream",
     "text": [
      "The sentiment_analysis method returns the label and the confidence/accuracy of the classification for the description of each episode.\n",
      "If the classification is positive the method will return the accuracy score. If it is negative it will return the negative of the score. \n",
      "\n",
      "Specific content within the synopsis that could be potentially inappropriate for children is searched for and assessed through a term frequency matrix, indicating the portion of the unsuitable terms present within the description.\n",
      "The same terms will be used for all age groups but the final weighting will be different.\n",
      "The attributes 'rating_description_score', 'synopsis_nostopwords', 'unsuitable_ratio', 'unsuitable_ratio2' are added to the data frame.\n",
      "\n",
      "A score is assigned based on the rating. The numerical value represents the proportion of children aged between 4 and 17 that can safely view the content. \n",
      "\n",
      "The mappings are given as follows:\n",
      "\n",
      "'U': 1, 'PG': 0.71, '12': 0.57, '12A': 0.57, '15':0.21, '18': 0.0\n",
      "\n",
      "The child appropriateness score is computed using the following equation: \n",
      "\n",
      "s * sentiment + t1 * freq1 + t2 * freq2 + r1 * rating + r2 * rating_desc_score\n",
      "\n",
      "With the variables: \n",
      "\n",
      "sentiment is the Sentiment Analysis score for the synopsis\n",
      "freq1 is the proportion of the synopsis that contains any of the unsuitable terms\n",
      "freq2 is the proportion of the age description that contains any unsuitable terms\n",
      "rating is the score for the Age Rating\n",
      "rating_desc_score is the Sentiment Analysis score for the rating description\n",
      "\n",
      "s: is the weight for the Sentiment Analysis score\n",
      "t1: is the weight for the Term Frequency score for the synopses\n",
      "t2: is the weight for the Term Frequency score for the age description\n",
      "r1: is the weight for the Age Rating score\n",
      "r2: is the weight for the Age Rating Description score\n"
     ]
    }
   ],
   "source": [
    "#transparency: child appropriatness score\n",
    "\n",
    "data_response = input(\"Would you like know how the child appropriatness score is determined? (y/n): \")\n",
    "\n",
    "if data_response.lower() == 'y':\n",
    "    \n",
    "    with open('/Users/zane/Downloads/PPM_transparency_explanations/childappropriatnessscore_explanation.txt', 'r') as file:\n",
    "        data_explanation = file.read()\n",
    "\n",
    "    print(data_explanation)\n",
    "\n",
    "elif data_response.lower() == 'n':\n",
    "    print(\"Thank you, if you wish to understand this at a later time, rerun the code and select 'y'.\")\n",
    "\n",
    "else:\n",
    "    print(\"Not a valid response. Again please enter 'y' or 'n'.\")"
   ]
  },
  {
   "cell_type": "code",
   "execution_count": 24,
   "metadata": {},
   "outputs": [
    {
     "name": "stdout",
     "output_type": "stream",
     "text": [
      "When implementing collaboration with the recommendation systems, the model considers rating from a various amount of users. It takes into account that ratings have been given by a user for specific episodes they have watched. \n",
      "\n",
      "The model filters by using Jaccard Similarity, measuring the similarity between two given sets. It merges the viewing histories of group members into a single user profile. It then generates recommendations based on similar ranges of other users. \n",
      "\n",
      "From a mathematical standpoint, the Jaccard Similarity can be represented by the equation and set operators: \n",
      "\n",
      "JaccardSim(A,B)= ∣A∪B∣ / ∣A∩B∣\n",
      "\n",
      "where ∣A∪B∣ denotes the absolute value (number of values) of the union of the two sets\n",
      "and ∣A∩B∣ denotes the absolute value (number of values) of the intersection of the two sets\n",
      "\n",
      "\n",
      "Here it calculates the similarity between the set of 'showId' values of that user and the 'group_movies' set.\n",
      "\n",
      "If the similarity between users falls below a threshold of 0.1 and is not 0, the model identifies the symmetric difference between the sets and includes them in a set named 'new_content'.\n",
      "It restricts the number of similar users taken into account to 15.\n",
      "\n",
      "Here we are left with the data frame 'df_recommendation' that holds these unique recommendations.\n",
      "\n"
     ]
    }
   ],
   "source": [
    "#transparency: collaboration \n",
    "\n",
    "data_response = input(\"Would you like know how collaboration is incorprated in the design of the recommendation system? (y/n): \")\n",
    "\n",
    "if data_response.lower() == 'y':\n",
    "    \n",
    "    with open('/Users/zane/Downloads/PPM_transparency_explanations/collaboration_explaination.txt', 'r') as file:\n",
    "        data_explanation = file.read()\n",
    "\n",
    "    print(data_explanation)\n",
    "\n",
    "elif data_response.lower() == 'n':\n",
    "    print(\"Thank you, if you wish to understand this at a later time, rerun the code and select 'y'.\")\n",
    "\n",
    "else:\n",
    "    print(\"Not a valid response. Again please enter 'y' or 'n'.\")"
   ]
  },
  {
   "cell_type": "code",
   "execution_count": 25,
   "metadata": {},
   "outputs": [
    {
     "name": "stdout",
     "output_type": "stream",
     "text": [
      "Positivity was implemented in the design by using sentiment analysis. \n",
      "The VADER model had been implemented within calculating a positivity score. \n",
      "Our sentiment was calculated using the columns: title, synopsis_medium, description, and rating_description. \n",
      "The output of the model lead to an extra column which states if the content is very negative, negative, neutral, positive, or very positive. \n",
      "\n",
      "The mathematical representation of how VADER calculates a score is as follows:\n",
      "\n",
      "Sentiment_i = n_Summation_i=1 (w_i * s_i)\n",
      "\n",
      "where: \n",
      "\n",
      "Sentiment_i: sentiment score \n",
      "n: number of words in the text\n",
      "wi: sentiment intensity of word i\n",
      "si: the increment of the sentiment score of word i\n",
      "\n",
      "In order to use the data to operationalize positivity, TF-IDF and cosine similarity are used.\n",
      "\n",
      "TF-IDF (Term Frequency-Inverse Document Frequency) to vectorize features is a method for measuring and evaluating the importance or weight of a given word in a document relative to other documents in a corpus \n",
      "(here the combination of the category, show, and description for the data sets make up the documents). \n",
      "Simply put, it is the process of converting text into numerical format represented in a matrix that is suitable for machine learning algorithms. \n",
      "\n",
      "Standard preprocessing is implemented, that is the text is converted to unicode, lowercase, and stopwords (English) are removed.\n",
      "\n",
      "The TF-IDF values are scores that are found by multiplying a given words term frequency (TF) - number of times the word occurs in a given document with the inverse document frequency (IDF) - proportion of documents in the corpus that contains the word. \n",
      "\n",
      "The mathematical equations are given by:\n",
      "\n",
      "• TF(t, d) = number of times term appears in document d/ total number of terms in document d\n",
      "\n",
      "• IDF(t, n) = log(total number of documents in corpus n/ number of documents containing term t)\n",
      "\n",
      "• TF-IDF(t, d, n) = TF(t, d) * IDF(t, n)\n",
      "\n",
      "The rows of the matrix represent the description and each column represents a unique word in the corpus. \n",
      "Hence the matrix is sparse. Each score indicates the importance of a word in a document relative to all of the other documents. \n",
      "A high score indicates the word is not common in other documents while a low score indicates the word is common in other documents. \n",
      "\n",
      "\n",
      "The cosine similarity is one way to mathematically evaluation the similarity between the shows based on their vectorized features. \n",
      "It measures the the similarity of two document vectors (found using TD-IDF) of an inner product space. \n",
      "The inner product space here is the the possible space (finite dimensional) for vector operations on a set of vectors, together with the dot product (the sum of products of the vectors corresponding components).\n",
      "Here we are working in a real vector space. \n",
      "\n",
      "The cosine similarity of two documents, A and B respectively is given by the following mathematical equation:\n",
      "\n",
      "• sim(A,B) = cos(theta) = (A•B)/(||A||||B||) \n",
      "\n",
      "where (A•B) denotes the dot product - the scalar of components\n",
      "and ||x|| denotes the vector norm - the magnitude or size of a vector.\n",
      "\n",
      "The calculation will provide cosine of the angle in which two document vectors are in the inner product space. \n",
      "A cosine similarity of 1 indicates that the documents are similar, 0 indicates that the documents are orthogonal, and -1 indicates the documents are dissimilar. \n",
      "  \n"
     ]
    }
   ],
   "source": [
    "#transparency: positivity\n",
    "\n",
    "data_response = input(\"Would you like know how positivity is incorprated in the design of the recommendation system? (y/n): \")\n",
    "\n",
    "if data_response.lower() == 'y':\n",
    "    \n",
    "    with open('/Users/zane/Downloads/PPM_transparency_explanations/positivity_explanation.txt', 'r') as file:\n",
    "        data_explanation = file.read()\n",
    "\n",
    "    print(data_explanation)\n",
    "\n",
    "elif data_response.lower() == 'n':\n",
    "    print(\"Thank you, if you wish to understand this at a later time, rerun the code and select 'y'.\")\n",
    "\n",
    "else:\n",
    "    print(\"Not a valid response. Again please enter 'y' or 'n'.\")"
   ]
  },
  {
   "cell_type": "code",
   "execution_count": 26,
   "metadata": {},
   "outputs": [
    {
     "name": "stdout",
     "output_type": "stream",
     "text": [
      "The goal of incorporating the value of fairness with the design is to ensure equal opportunities for exposure regardless ethnicity of the characters involved. \n",
      "Ensuring equal exposure opportunities for items is commonly referred to as individual item fairness. \n",
      "\n",
      "First ratios are calculated that represent the ethnic composition. \n",
      "\n",
      "The derivation is as follows: \n",
      "\n",
      "Majority Representation: Number of majority represented mediated / Number of total recommendations\n",
      "Minority Representation: Number of minority represented mediated / Number of total recommendations\n",
      "Mixed Representation: Number of mixed represented mediated / Number of total recommendations\n",
      "\n",
      "Then an intermediate score can be calculated as follows by comparing the actual recommendation ratios to an ideal target distribution. \n",
      "\n",
      "Intermediate Score = Summation_i (|Actual Ratio_i - Target Ratio_i|)\n",
      "\n",
      "i: ethnic representation category (Majority, Minority, Mixed)\n",
      "\n",
      "The final score is calculated as follows: \n",
      "\n",
      "Fairness = 1 - Intermediate Score\n",
      "\n",
      "The score is in the range (0,1)\n"
     ]
    }
   ],
   "source": [
    "#transparency: fairness\n",
    "\n",
    "data_response = input(\"Would you like know how fairness is accessed within the design of the recommendation system? (y/n): \")\n",
    "\n",
    "if data_response.lower() == 'y':\n",
    "    \n",
    "    with open('/Users/zane/Downloads/PPM_transparency_explanations/fairness_explanation.txt', 'r') as file:\n",
    "        data_explanation = file.read()\n",
    "\n",
    "    print(data_explanation)\n",
    "\n",
    "elif data_response.lower() == 'n':\n",
    "    print(\"Thank you, if you wish to understand this at a later time, rerun the code and select 'y'.\")\n",
    "\n",
    "else:\n",
    "    print(\"Not a valid response. Again please enter 'y' or 'n'.\")"
   ]
  }
 ],
 "metadata": {
  "kernelspec": {
   "display_name": "base",
   "language": "python",
   "name": "python3"
  },
  "language_info": {
   "codemirror_mode": {
    "name": "ipython",
    "version": 3
   },
   "file_extension": ".py",
   "mimetype": "text/x-python",
   "name": "python",
   "nbconvert_exporter": "python",
   "pygments_lexer": "ipython3",
   "version": "3.8.3"
  }
 },
 "nbformat": 4,
 "nbformat_minor": 2
}
